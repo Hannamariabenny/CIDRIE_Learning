{
 "cells": [
  {
   "cell_type": "code",
   "execution_count": 3,
   "id": "f11000f2-2a6f-42e9-814b-c810c717f396",
   "metadata": {},
   "outputs": [
    {
     "name": "stdout",
     "output_type": "stream",
     "text": [
      "Pair found (4, 6)\n"
     ]
    }
   ],
   "source": [
    "def pair(nums, target):\n",
    "    num_set = set()\n",
    "    for i in nums:\n",
    "        num = target - i\n",
    "        if num in num_set:\n",
    "            return(num, i)\n",
    "        num_set.add(i)\n",
    "    return None\n",
    "\n",
    "nums = range(1000001)\n",
    "target = 10\n",
    "\n",
    "# pass million set and target value\n",
    "result = pair(nums, target)\n",
    "\n",
    "if result:\n",
    "    print(\"Pair found\", result)\n",
    "else:\n",
    "    print(\"No pair found\")"
   ]
  }
 ],
 "metadata": {
  "kernelspec": {
   "display_name": "Python 3 (ipykernel)",
   "language": "python",
   "name": "python3"
  },
  "language_info": {
   "codemirror_mode": {
    "name": "ipython",
    "version": 3
   },
   "file_extension": ".py",
   "mimetype": "text/x-python",
   "name": "python",
   "nbconvert_exporter": "python",
   "pygments_lexer": "ipython3",
   "version": "3.11.4"
  }
 },
 "nbformat": 4,
 "nbformat_minor": 5
}
