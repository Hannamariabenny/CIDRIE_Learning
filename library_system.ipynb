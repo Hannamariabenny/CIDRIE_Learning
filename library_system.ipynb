{
 "cells": [
  {
   "cell_type": "code",
   "execution_count": 18,
   "id": "b48c3657-74a6-4a6b-9d23-074b3bc11a68",
   "metadata": {},
   "outputs": [
    {
     "name": "stdout",
     "output_type": "stream",
     "text": [
      "Book not found\n",
      "\n",
      "Library Details:\n",
      "'Reminders of Him' by Colleen Hoover - Available\n",
      "'The Happy Place' by Emily Henry - Available\n"
     ]
    }
   ],
   "source": [
    "class Book:\n",
    "    def __init__(self, title, author):\n",
    "        self.title = title\n",
    "        self.author = author\n",
    "        self.available = True\n",
    "    def borrow(self):\n",
    "        if self.available:\n",
    "            self.available = False\n",
    "            print(f\"You borrowed '{self.title}'\")\n",
    "        else:\n",
    "            print(f\"Sorry, '{self.title}' is already borrowed\")\n",
    "    def return_book(self):\n",
    "        if not self.available:\n",
    "            self.available = True\n",
    "            print(f\"You returned '{self.title}'\")\n",
    "        else:\n",
    "            print(f\"'{self.title}' was not borrowed\")\n",
    "    def __str__(self):\n",
    "        if self.available:\n",
    "            status = \"Available\"\n",
    "        else:\n",
    "            status = \"Borrowed\"\n",
    "        return f\"'{self.title}' by {self.author} - {status}\"\n",
    "\n",
    "class Library:\n",
    "    def __init__(self):\n",
    "        self.books = []\n",
    "    def add_book(self, book):\n",
    "        self.books.append(book)\n",
    "    def show_books(self):\n",
    "        print(\"\\nLibrary Details:\")\n",
    "        for book in self.books:\n",
    "            print(book)\n",
    "    def find_book(self, title):\n",
    "        for book in self.books:\n",
    "            if book.title.lower() == title.lower():\n",
    "                return book\n",
    "        return None\n",
    "\n",
    "book1 = Book(\"Reminders of Him\", \"Colleen Hoover\")\n",
    "book2 = Book(\"The Happy Place\", \"Emily Henry\")\n",
    "library = Library()\n",
    "library.add_book(book1)\n",
    "library.add_book(book2)\n",
    "book = library.find_book(\"Spanish Love Deception\")\n",
    "if book:\n",
    "    book.borrow()\n",
    "    book.return_book()\n",
    "else:\n",
    "    print(f\"Book not found\")\n",
    "library.show_books()"
   ]
  }
 ],
 "metadata": {
  "kernelspec": {
   "display_name": "Python 3 (ipykernel)",
   "language": "python",
   "name": "python3"
  },
  "language_info": {
   "codemirror_mode": {
    "name": "ipython",
    "version": 3
   },
   "file_extension": ".py",
   "mimetype": "text/x-python",
   "name": "python",
   "nbconvert_exporter": "python",
   "pygments_lexer": "ipython3",
   "version": "3.11.4"
  }
 },
 "nbformat": 4,
 "nbformat_minor": 5
}
