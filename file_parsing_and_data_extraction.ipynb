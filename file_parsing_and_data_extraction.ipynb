{
 "cells": [
  {
   "cell_type": "code",
   "execution_count": 13,
   "id": "ff74d55c-f1d5-4030-96da-42fbf75fd68f",
   "metadata": {},
   "outputs": [
    {
     "name": "stdout",
     "output_type": "stream",
     "text": [
      "2024-05-10 10:00:00 : Connection timeout\n",
      "2024-05-10 10:11:06 : Sensor disconnected\n",
      "2024-05-10 10:15:34 : File not found\n",
      "2024-05-10 10:24:47 : Sensor disconnected\n",
      "2024-05-10 10:28:29 : Sensor disconnected\n",
      "2024-05-10 10:42:00 : Invalid sensor reading\n",
      "2024-05-10 10:43:08 : Invalid sensor reading\n",
      "2024-05-10 10:54:03 : File not found\n",
      "2024-05-10 11:00:52 : File not found\n",
      "2024-05-10 11:03:56 : File not found\n",
      "2024-05-10 11:05:06 : Invalid sensor reading\n",
      "2024-05-10 11:18:14 : Invalid sensor reading\n",
      "2024-05-10 11:40:16 : File not found\n",
      "2024-05-10 11:44:23 : Connection timeout\n",
      "2024-05-10 11:46:55 : File not found\n",
      "2024-05-10 12:10:16 : Sensor disconnected\n",
      "2024-05-10 12:36:53 : Connection timeout\n",
      "2024-05-10 12:43:08 : File not found\n",
      "2024-05-10 12:46:45 : Invalid sensor reading\n",
      "2024-05-10 12:56:56 : Connection timeout\n",
      "2024-05-10 13:00:36 : Sensor disconnected\n",
      "2024-05-10 13:05:16 : Sensor disconnected\n",
      "2024-05-10 13:27:06 : Sensor disconnected\n",
      "2024-05-10 13:29:20 : File not found\n",
      "2024-05-10 13:47:09 : File not found\n",
      "2024-05-10 13:51:50 : Invalid sensor reading\n",
      "2024-05-10 14:03:59 : Sensor disconnected\n",
      "2024-05-10 14:09:30 : Sensor disconnected\n",
      "2024-05-10 14:14:12 : Connection timeout\n",
      "2024-05-10 14:45:55 : Connection timeout\n"
     ]
    }
   ],
   "source": [
    "with open(\"sample_logs.txt\") as file:\n",
    "    for line in file:\n",
    "        if \"ERROR\" in line:\n",
    "            timestamp = line.split(']')[0][1:]\n",
    "            error = line.split(']')[1].split(\"ERROR\")[1].strip()\n",
    "            print(f\"{timestamp} {error}\")"
   ]
  },
  {
   "cell_type": "code",
   "execution_count": null,
   "id": "62727b78-24e0-4482-a402-ff9d0116928a",
   "metadata": {},
   "outputs": [],
   "source": []
  }
 ],
 "metadata": {
  "kernelspec": {
   "display_name": "Python 3 (ipykernel)",
   "language": "python",
   "name": "python3"
  },
  "language_info": {
   "codemirror_mode": {
    "name": "ipython",
    "version": 3
   },
   "file_extension": ".py",
   "mimetype": "text/x-python",
   "name": "python",
   "nbconvert_exporter": "python",
   "pygments_lexer": "ipython3",
   "version": "3.11.4"
  }
 },
 "nbformat": 4,
 "nbformat_minor": 5
}
