{
 "cells": [
  {
   "cell_type": "code",
   "execution_count": 9,
   "id": "99ed12cc-4fe7-4681-b308-0a8b4292076a",
   "metadata": {},
   "outputs": [],
   "source": [
    "import pandas as pd"
   ]
  },
  {
   "cell_type": "code",
   "execution_count": 10,
   "id": "5020c366-574e-467a-8567-fd4970427c3f",
   "metadata": {},
   "outputs": [],
   "source": [
    "df = pd.read_csv(\"sample_data.csv\")"
   ]
  },
  {
   "cell_type": "code",
   "execution_count": 12,
   "id": "611dea3d-bbbb-4967-bc00-e54c5cf3fb28",
   "metadata": {},
   "outputs": [
    {
     "name": "stdout",
     "output_type": "stream",
     "text": [
      "Cleaned Data:\n",
      "    Name  Maths  Science  English\n",
      "0  Hanna   85.0       90     88.0\n",
      "1    Ann   87.5       92     86.5\n",
      "2   Azra   90.0       85     86.5\n",
      "3   Anna   87.5       80     85.0\n",
      "Average Marks per Subject:\n",
      "Maths      87.50\n",
      "Science    86.75\n",
      "English    86.50\n",
      "dtype: float64\n"
     ]
    }
   ],
   "source": [
    "df_filled = df.copy()\n",
    "\n",
    "# Take each column except name\n",
    "for column in df.columns[1:]:\n",
    "\n",
    "    # find the mean of each column by skipping null values(NaN)\n",
    "    mean = df[column].mean(skipna=True)\n",
    "\n",
    "    # fill the null values(NaN) with calculated mean\n",
    "    df_filled[column] = df_filled[column].fillna(mean)\n",
    "\n",
    "# calculate the mean of each subject\n",
    "sub_avg = df_filled.iloc[:, 1:].mean()\n",
    "\n",
    "print(\"Cleaned Data:\")\n",
    "print(df_filled)\n",
    "print(\"Average Marks per Subject:\")\n",
    "print(sub_avg)"
   ]
  },
  {
   "cell_type": "code",
   "execution_count": null,
   "id": "11f48822-9469-47b1-9ee4-1de6c616eee7",
   "metadata": {},
   "outputs": [],
   "source": []
  }
 ],
 "metadata": {
  "kernelspec": {
   "display_name": "Python 3 (ipykernel)",
   "language": "python",
   "name": "python3"
  },
  "language_info": {
   "codemirror_mode": {
    "name": "ipython",
    "version": 3
   },
   "file_extension": ".py",
   "mimetype": "text/x-python",
   "name": "python",
   "nbconvert_exporter": "python",
   "pygments_lexer": "ipython3",
   "version": "3.11.4"
  }
 },
 "nbformat": 4,
 "nbformat_minor": 5
}
